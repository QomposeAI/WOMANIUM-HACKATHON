{
 "cells": [
  {
   "cell_type": "code",
   "execution_count": 2,
   "id": "5182e72d",
   "metadata": {},
   "outputs": [],
   "source": [
    "from keras import optimizers, losses\n",
    "from keras.layers import *\n",
    "from keras.models import Model\n",
    "from keras.backend import int_shape\n",
    "from keras.utils import to_categorical, plot_model\n",
    "\n",
    "from keras.preprocessing import sequence\n",
    "from keras.models import Sequential\n",
    "from keras.layers import Dense, Dropout, Embedding, LSTM, Bidirectional\n",
    "\n",
    "import numpy as np\n",
    "import pandas as pd\n",
    "import matplotlib.pyplot as plt"
   ]
  },
  {
   "cell_type": "code",
   "execution_count": 38,
   "id": "573a1cbc",
   "metadata": {},
   "outputs": [],
   "source": [
    "def se_block(block_input, num_filters, ratio=8):\n",
    "    pool1 = GlobalAveragePooling2D()(block_input)\n",
    "    flat = Reshape((1, 1, num_filters))(pool1)\n",
    "    dense1 = Dense(num_filters//ratio, activation='relu')(flat)\n",
    "    dense2 = Dense(num_filters, activation='sigmoid')(dense1)\n",
    "    scale = multiply([block_input, dense2])\n",
    "    \n",
    "    return scale\n",
    "\n",
    "def resnet_block(block_input, num_filters):\n",
    "    if int_shape(block_input)[3] != num_filters:\n",
    "        block_input = Conv2D(num_filters, kernel_size=(1, 1))(block_input)\n",
    "        \n",
    "    conv1 = Conv2D(num_filters, kernel_size=(3, 3), padding='same')(block_input)\n",
    "    norm1 = BatchNormalization()(conv1)\n",
    "    relu1 = Activation('relu')(norm1)\n",
    "    conv2 = Conv2D(num_filters, kernel_size=(3, 3), padding='same')(relu1)\n",
    "    norm2 = BatchNormalization()(conv2)\n",
    "    relu2 = Activation('relu')(norm2)\n",
    "    conv3 = Conv2D(num_filters, kernel_size=(3, 3), padding='same')(relu2)\n",
    "    norm3 = BatchNormalization()(conv3)\n",
    "    \n",
    "    se = se_block(norm3, num_filters=num_filters)\n",
    "    \n",
    "    sum = Add()([block_input, se])\n",
    "    relu3 = Activation('relu')(sum)\n",
    "    \n",
    "    return relu3\n",
    "\n",
    "def resnet_8():\n",
    "    for i in range (8):\n",
    "        SE_output = resnet_block(relu3, num_filters = num_filters)\n",
    "    return SE_output\n",
    "\n",
    "def BLSTM():\n",
    "    model = Sequential()\n",
    "    model.add(Bidirectional(LSTM(512, return_sequences=True, merge_mode ='mul')))\n",
    "    model.add(Dense(1))\n",
    "    model.add(Activation('sigmoid'))\n",
    "    after_dp = Dropout(0.2)(model)\n",
    "    model = Attention(units=32)(after_dp) \n",
    "    \n",
    "    model = keras.models.Model(inputs=spectrogram,outputs=net)\n",
    "    model.compile(loss='binary_crossentropy', optimizer='rmsprop', metrics=['accuracy'])\n",
    "    "
   ]
  },
  {
   "cell_type": "code",
   "execution_count": 1,
   "id": "fba5c1a4",
   "metadata": {},
   "outputs": [],
   "source": [
    "def BLSTM():\n",
    "    model = Sequential()\n",
    "    model.add(Bidirectional(LSTM(512, return_sequences=True, merge_mode ='mul')))\n",
    "    model.add(Dense(1))\n",
    "    model.add(Activation('sigmoid'))\n",
    "    after_dp = Dropout(0.2)(model)\n",
    "    model = Attention(units=32)(after_dp) \n",
    "    \n",
    "    model = keras.models.Model(inputs=spectrogram,outputs=net)\n",
    "    model.compile(loss='binary_crossentropy', optimizer='rmsprop', metrics=['accuracy'])\n",
    "    "
   ]
  },
  {
   "cell_type": "code",
   "execution_count": null,
   "id": "a7b017a6",
   "metadata": {},
   "outputs": [],
   "source": []
  }
 ],
 "metadata": {
  "kernelspec": {
   "display_name": "Python 3 (ipykernel)",
   "language": "python",
   "name": "python3"
  },
  "language_info": {
   "codemirror_mode": {
    "name": "ipython",
    "version": 3
   },
   "file_extension": ".py",
   "mimetype": "text/x-python",
   "name": "python",
   "nbconvert_exporter": "python",
   "pygments_lexer": "ipython3",
   "version": "3.9.12"
  }
 },
 "nbformat": 4,
 "nbformat_minor": 5
}
