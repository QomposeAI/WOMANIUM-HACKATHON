{
 "cells": [
  {
   "cell_type": "code",
   "execution_count": 2,
   "metadata": {},
   "outputs": [
    {
     "ename": "KeyError",
     "evalue": "'filename'",
     "output_type": "error",
     "traceback": [
      "\u001b[1;31m---------------------------------------------------------------------------\u001b[0m",
      "\u001b[1;31mKeyError\u001b[0m                                  Traceback (most recent call last)",
      "Input \u001b[1;32mIn [2]\u001b[0m, in \u001b[0;36m<cell line: 6>\u001b[1;34m()\u001b[0m\n\u001b[0;32m      4\u001b[0m form \u001b[38;5;241m=\u001b[39m cgi\u001b[38;5;241m.\u001b[39mFieldStorage()\n\u001b[0;32m      5\u001b[0m \u001b[38;5;66;03m# Get filename here.\u001b[39;00m\n\u001b[1;32m----> 6\u001b[0m fileitem \u001b[38;5;241m=\u001b[39m \u001b[43mform\u001b[49m\u001b[43m[\u001b[49m\u001b[38;5;124;43m'\u001b[39;49m\u001b[38;5;124;43mfilename\u001b[39;49m\u001b[38;5;124;43m'\u001b[39;49m\u001b[43m]\u001b[49m\n\u001b[0;32m      7\u001b[0m \u001b[38;5;66;03m# Test if the file was uploaded\u001b[39;00m\n\u001b[0;32m      8\u001b[0m \u001b[38;5;28;01mif\u001b[39;00m fileitem\u001b[38;5;241m.\u001b[39mfilename:\n\u001b[0;32m      9\u001b[0m    \u001b[38;5;66;03m# strip leading path from file name to avoid\u001b[39;00m\n\u001b[0;32m     10\u001b[0m    \u001b[38;5;66;03m# directory traversal attacks\u001b[39;00m\n",
      "File \u001b[1;32mC:\\ProgramData\\Anaconda3\\lib\\cgi.py:525\u001b[0m, in \u001b[0;36mFieldStorage.__getitem__\u001b[1;34m(self, key)\u001b[0m\n\u001b[0;32m    523\u001b[0m     \u001b[38;5;28;01mif\u001b[39;00m item\u001b[38;5;241m.\u001b[39mname \u001b[38;5;241m==\u001b[39m key: found\u001b[38;5;241m.\u001b[39mappend(item)\n\u001b[0;32m    524\u001b[0m \u001b[38;5;28;01mif\u001b[39;00m \u001b[38;5;129;01mnot\u001b[39;00m found:\n\u001b[1;32m--> 525\u001b[0m     \u001b[38;5;28;01mraise\u001b[39;00m \u001b[38;5;167;01mKeyError\u001b[39;00m(key)\n\u001b[0;32m    526\u001b[0m \u001b[38;5;28;01mif\u001b[39;00m \u001b[38;5;28mlen\u001b[39m(found) \u001b[38;5;241m==\u001b[39m \u001b[38;5;241m1\u001b[39m:\n\u001b[0;32m    527\u001b[0m     \u001b[38;5;28;01mreturn\u001b[39;00m found[\u001b[38;5;241m0\u001b[39m]\n",
      "\u001b[1;31mKeyError\u001b[0m: 'filename'"
     ]
    }
   ],
   "source": [
    "#!/usr/bin/python\n",
    "import cgi, os\n",
    "import cgitb; cgitb.enable()\n",
    "form = cgi.FieldStorage()\n",
    "# Get filename here.\n",
    "fileitem = form['filename']\n",
    "# Test if the file was uploaded\n",
    "if fileitem.filename:\n",
    "   # strip leading path from file name to avoid\n",
    "   # directory traversal attacks\n",
    "   fn = os.path.basename(fileitem.filename)\n",
    "   open('/tmp/' + fn, 'wb').write(fileitem.file.read())\n",
    "   message = 'The file \"' + fn + '\" was uploaded successfully'\n",
    "else:\n",
    "   message = 'No file was uploaded'\n",
    "print (\"\"\"\\\n",
    "Content-Type: text/html\\n\n",
    "<html>\n",
    "<body>\n",
    "   <p>%s</p>\n",
    "</body>\n",
    "</html>\n",
    "\"\"\" % (message,))"
   ]
  },
  {
   "cell_type": "code",
   "execution_count": null,
   "metadata": {},
   "outputs": [],
   "source": []
  }
 ],
 "metadata": {
  "kernelspec": {
   "display_name": "Python 3 (ipykernel)",
   "language": "python",
   "name": "python3"
  },
  "language_info": {
   "codemirror_mode": {
    "name": "ipython",
    "version": 3
   },
   "file_extension": ".py",
   "mimetype": "text/x-python",
   "name": "python",
   "nbconvert_exporter": "python",
   "pygments_lexer": "ipython3",
   "version": "3.9.12"
  },
  "vscode": {
   "interpreter": {
    "hash": "e593ac106456af50ce7af38f9671c411b49d6cd90f9b885e167f0f594e09038c"
   }
  }
 },
 "nbformat": 4,
 "nbformat_minor": 2
}
