{
 "cells": [
  {
   "cell_type": "code",
   "execution_count": null,
   "id": "18fc155a",
   "metadata": {},
   "outputs": [],
   "source": [
    "#uses musicpy to extract audio from a mp4 file and return an audio file for QomposeAI"
   ]
  },
  {
   "cell_type": "code",
   "execution_count": null,
   "id": "7a451c37",
   "metadata": {},
   "outputs": [],
   "source": [
    "#use the cell below only if you do not have musicpy library installed"
   ]
  },
  {
   "cell_type": "code",
   "execution_count": null,
   "id": "f3f8278c",
   "metadata": {},
   "outputs": [],
   "source": [
    "pip install musicpy"
   ]
  },
  {
   "cell_type": "code",
   "execution_count": 1,
   "id": "e7ddb2f4",
   "metadata": {},
   "outputs": [
    {
     "ename": "ModuleNotFoundError",
     "evalue": "No module named 'moveipy'",
     "output_type": "error",
     "traceback": [
      "\u001b[1;31m---------------------------------------------------------------------------\u001b[0m",
      "\u001b[1;31mModuleNotFoundError\u001b[0m                       Traceback (most recent call last)",
      "Input \u001b[1;32mIn [1]\u001b[0m, in \u001b[0;36m<cell line: 1>\u001b[1;34m()\u001b[0m\n\u001b[1;32m----> 1\u001b[0m \u001b[38;5;28;01mimport\u001b[39;00m \u001b[38;5;21;01mmoveipy\u001b[39;00m\u001b[38;5;21;01m.\u001b[39;00m\u001b[38;5;21;01meditor\u001b[39;00m\n\u001b[0;32m      3\u001b[0m \u001b[38;5;66;03m#declaring the path of video file--> will be changed into client provided video in future\u001b[39;00m\n\u001b[0;32m      4\u001b[0m video\u001b[38;5;241m=\u001b[39mmoveipy\u001b[38;5;241m.\u001b[39meditor\u001b[38;5;241m.\u001b[39mVideoFileClip(\u001b[38;5;124m'\u001b[39m\u001b[38;5;124mdemo.mp4\u001b[39m\u001b[38;5;124m'\u001b[39m)\n",
      "\u001b[1;31mModuleNotFoundError\u001b[0m: No module named 'moveipy'"
     ]
    }
   ],
   "source": [
    "import moveipy.editor\n",
    "\n",
    "#declaring the path of video file--> will be changed into client provided video in future\n",
    "video=moveipy.editor.VideoFileClip('demo.mp4')\n",
    "\n",
    "audio=video.audio\n",
    "\n",
    "audio.write_audio('extracted_audio.mp3')"
   ]
  },
  {
   "cell_type": "code",
   "execution_count": null,
   "id": "3ccf37c4",
   "metadata": {},
   "outputs": [],
   "source": []
  }
 ],
 "metadata": {
  "kernelspec": {
   "display_name": "Python 3 (ipykernel)",
   "language": "python",
   "name": "python3"
  },
  "language_info": {
   "codemirror_mode": {
    "name": "ipython",
    "version": 3
   },
   "file_extension": ".py",
   "mimetype": "text/x-python",
   "name": "python",
   "nbconvert_exporter": "python",
   "pygments_lexer": "ipython3",
   "version": "3.9.12"
  }
 },
 "nbformat": 4,
 "nbformat_minor": 5
}
