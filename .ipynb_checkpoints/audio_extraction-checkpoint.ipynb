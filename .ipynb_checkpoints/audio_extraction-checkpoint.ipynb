{
 "cells": [
  {
   "cell_type": "code",
   "execution_count": null,
   "id": "18fc155a",
   "metadata": {},
   "outputs": [],
   "source": [
    "#uses musicpy to extract audio from a mp4 file and return an audio file for QomposeAI"
   ]
  },
  {
   "cell_type": "code",
   "execution_count": null,
   "id": "0c881be2",
   "metadata": {},
   "outputs": [],
   "source": [
    "#use the cell below only if you do not have musicpy library installed"
   ]
  },
  {
   "cell_type": "code",
   "execution_count": null,
   "id": "f3f8278c",
   "metadata": {},
   "outputs": [],
   "source": [
    "pip install moviepy"
   ]
  },
  {
   "cell_type": "code",
   "execution_count": null,
   "id": "9d574705",
   "metadata": {
    "scrolled": true
   },
   "outputs": [],
   "source": [
    "import moviepy.editor\n",
    "\n",
    "#declaring the path of video file--> will be changed into client provided video in future\n",
    "video=moviepy.editor.VideoFileClip('demo.mp4')\n",
    "\n",
    "audio=video.audio\n",
    "\n",
    "audio.write_audiofile('extracted_audio.mp3')"
   ]
  }
 ],
 "metadata": {
  "kernelspec": {
   "display_name": "Python 3 (ipykernel)",
   "language": "python",
   "name": "python3"
  },
  "language_info": {
   "codemirror_mode": {
    "name": "ipython",
    "version": 3
   },
   "file_extension": ".py",
   "mimetype": "text/x-python",
   "name": "python",
   "nbconvert_exporter": "python",
   "pygments_lexer": "ipython3",
   "version": "3.9.12"
  }
 },
 "nbformat": 4,
 "nbformat_minor": 5
}
