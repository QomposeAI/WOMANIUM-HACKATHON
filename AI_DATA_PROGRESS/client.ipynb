{
 "cells": [
  {
   "cell_type": "code",
   "execution_count": null,
   "metadata": {},
   "outputs": [],
   "source": [
    "#client.py\n",
    "import requests"
   ]
  },
  {
   "cell_type": "code",
   "execution_count": null,
   "metadata": {},
   "outputs": [],
   "source": [
    "URL = \"http://0000000/predict\"\n",
    "TEST_AUDIO_FILE_PATH = \"\""
   ]
  },
  {
   "cell_type": "code",
   "execution_count": null,
   "metadata": {},
   "outputs": [],
   "source": [
    "if __name__ = \"__main__\":\n",
    "    audio_file = open(TEST_AUDIO_FILE_PATH, \"rb\" )\n",
    "    values = { \"file\": (TEST_AUDIO_FILE_PATH, audio_file, \"audio/wav\" )} \n",
    "    response = requests.post(URL, FILES = values)\n",
    "    data = response.json()\n",
    "    \n",
    "    print(f\"Predicted keyword is: {data[\"keyword\"]}\")"
   ]
  }
 ],
 "metadata": {
  "kernelspec": {
   "display_name": "Python 3",
   "language": "python",
   "name": "python3"
  },
  "language_info": {
   "codemirror_mode": {
    "name": "ipython",
    "version": 3
   },
   "file_extension": ".py",
   "mimetype": "text/x-python",
   "name": "python",
   "nbconvert_exporter": "python",
   "pygments_lexer": "ipython3",
   "version": "3.6.9"
  }
 },
 "nbformat": 4,
 "nbformat_minor": 4
}
