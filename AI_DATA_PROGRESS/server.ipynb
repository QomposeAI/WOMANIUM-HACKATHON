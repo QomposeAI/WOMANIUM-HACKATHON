{
 "cells": [
  {
   "cell_type": "code",
   "execution_count": 1,
   "metadata": {},
   "outputs": [
    {
     "ename": "ModuleNotFoundError",
     "evalue": "No module named 'flask'",
     "output_type": "error",
     "traceback": [
      "\u001b[0;31m---------------------------------------------------------------------------\u001b[0m",
      "\u001b[0;31mModuleNotFoundError\u001b[0m                       Traceback (most recent call last)",
      "\u001b[0;32m<ipython-input-1-a73ec0eb7ce7>\u001b[0m in \u001b[0;36m<module>\u001b[0;34m\u001b[0m\n\u001b[1;32m      1\u001b[0m \u001b[0;32mimport\u001b[0m \u001b[0mrandom\u001b[0m\u001b[0;34m\u001b[0m\u001b[0;34m\u001b[0m\u001b[0m\n\u001b[0;32m----> 2\u001b[0;31m \u001b[0;32mfrom\u001b[0m \u001b[0mflask\u001b[0m \u001b[0;32mimport\u001b[0m \u001b[0mFlask\u001b[0m\u001b[0;34m,\u001b[0m \u001b[0mrequest\u001b[0m\u001b[0;34m\u001b[0m\u001b[0;34m\u001b[0m\u001b[0m\n\u001b[0m\u001b[1;32m      3\u001b[0m \u001b[0;32mfrom\u001b[0m \u001b[0mkeyword_spotting_service\u001b[0m \u001b[0;32mimport\u001b[0m \u001b[0mKeyword_Spotting_Service\u001b[0m\u001b[0;34m\u001b[0m\u001b[0;34m\u001b[0m\u001b[0m\n",
      "\u001b[0;31mModuleNotFoundError\u001b[0m: No module named 'flask'"
     ]
    }
   ],
   "source": [
    "import os\n",
    "import random\n",
    "from flask import Flask, request, jsonify\n",
    "from keyword_spotting_service import Keyword_Spotting_Service"
   ]
  },
  {
   "cell_type": "code",
   "execution_count": null,
   "metadata": {},
   "outputs": [],
   "source": [
    "app = Flask(__name__)\n",
    "\n",
    "@app.route(\"/predict\", methodas= [\"POST\"])\n",
    "\n",
    "def predict():\n",
    "    pass\n",
    "\n",
    "    #get audio file and save it\n",
    "    audio_file = request.files[\"file\"]\n",
    "    file_name = str(random.randomint(0,100000))\n",
    "    audio_file.save(file_name)\n",
    "    \n",
    "    #invoke keyword spotting service\n",
    "    dss = Disfluency_Spotting_Service()\n",
    "    \n",
    "    # make a prediction\n",
    "     predicted_keyword = dss.predict(file_name)\n",
    "        \n",
    "    # remove the audio file\n",
    "    os.remove(file_name)\n",
    "    \n",
    "    # send back the predicted keyword in json format\n",
    "    data = {\"keyword\": predicted_keyword}\n",
    "    return jsonify(data)"
   ]
  },
  {
   "cell_type": "code",
   "execution_count": null,
   "metadata": {},
   "outputs": [],
   "source": [
    "if __name__ == \"__main__\"\n",
    "    app.run(debug = False)"
   ]
  }
 ],
 "metadata": {
  "kernelspec": {
   "display_name": "Python 3",
   "language": "python",
   "name": "python3"
  },
  "language_info": {
   "codemirror_mode": {
    "name": "ipython",
    "version": 3
   },
   "file_extension": ".py",
   "mimetype": "text/x-python",
   "name": "python",
   "nbconvert_exporter": "python",
   "pygments_lexer": "ipython3",
   "version": "3.6.9"
  }
 },
 "nbformat": 4,
 "nbformat_minor": 4
}
