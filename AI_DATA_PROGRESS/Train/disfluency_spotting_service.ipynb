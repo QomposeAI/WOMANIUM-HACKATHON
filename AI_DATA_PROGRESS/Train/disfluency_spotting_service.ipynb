{
 "cells": [
  {
   "cell_type": "code",
   "execution_count": 1,
   "metadata": {},
   "outputs": [
    {
     "ename": "ModuleNotFoundError",
     "evalue": "No module named 'librosa'",
     "output_type": "error",
     "traceback": [
      "\u001b[0;31m---------------------------------------------------------------------------\u001b[0m",
      "\u001b[0;31mModuleNotFoundError\u001b[0m                       Traceback (most recent call last)",
      "\u001b[0;32m<ipython-input-1-6815a529f440>\u001b[0m in \u001b[0;36m<module>\u001b[0;34m\u001b[0m\n\u001b[1;32m      1\u001b[0m \u001b[0;32mimport\u001b[0m \u001b[0mtensorflow\u001b[0m\u001b[0;34m.\u001b[0m\u001b[0mkeras\u001b[0m \u001b[0;32mas\u001b[0m \u001b[0mkeras\u001b[0m\u001b[0;34m\u001b[0m\u001b[0;34m\u001b[0m\u001b[0m\n\u001b[1;32m      2\u001b[0m \u001b[0;32mimport\u001b[0m \u001b[0mnumpy\u001b[0m \u001b[0;32mas\u001b[0m \u001b[0mnp\u001b[0m\u001b[0;34m\u001b[0m\u001b[0;34m\u001b[0m\u001b[0m\n\u001b[0;32m----> 3\u001b[0;31m \u001b[0;32mimport\u001b[0m \u001b[0mlibrosa\u001b[0m\u001b[0;34m\u001b[0m\u001b[0;34m\u001b[0m\u001b[0m\n\u001b[0m",
      "\u001b[0;31mModuleNotFoundError\u001b[0m: No module named 'librosa'"
     ]
    }
   ],
   "source": [
    "import tensorflow.keras as keras\n",
    "import numpy as np\n",
    "import librosa"
   ]
  },
  {
   "cell_type": "code",
   "execution_count": null,
   "metadata": {},
   "outputs": [],
   "source": [
    "LOAD_MODEL = \"SE-ResNet_for_disfluency.hdf5\"\n",
    "\n",
    "NUM_SAMPLES_TO_CONSIDER = 16000"
   ]
  },
  {
   "cell_type": "code",
   "execution_count": null,
   "metadata": {},
   "outputs": [],
   "source": [
    "class _Disfluency_Spotting_Service:\n",
    "    \n",
    "    model = None\n",
    "    _mappings = [\n",
    "        \"Breath\",\n",
    "        \"Laughter\",\n",
    "        \"Music\",\n",
    "        \"Uh\",\n",
    "        \"Um\",\n",
    "        \"Words\"\n",
    "    ]\n",
    "    \n",
    "    _instance = None\n",
    "    \n",
    "    \n",
    "    \n",
    "    def preprocess(self, file_path, n_fft = 400, hop_length = 160 ):\n",
    "        \n",
    "        # load audio file\n",
    "        signal, sr = librosa.load(file_path, sr = 16000,\n",
    "                              mono = mono)[0]\n",
    "        \n",
    "        #ensure consistency in audio file length\n",
    "        if len(signal) > NUM_SAMPLES_TO_CONSIDER:\n",
    "            signal = signal[:NUM_SAMPLES_TO_CONSIDER]\n",
    "        \n",
    "        #extract spectogram\n",
    "        stft = librosa.stft(signal,\n",
    "                            n_fft = self.frame_size,\n",
    "                            hop_length = self.hop_length)\n",
    "        spectogram = np.abs(stft)\n",
    "        log_spectogram = librosa.amplitude_to_db(spectogram)\n",
    "        return log_spectogram\n",
    "\n",
    "    \n",
    "    \n",
    "    \n",
    "    def predict(self, file_path):\n",
    "        \n",
    "        #extract septograms\n",
    "        septograms = self.preprocess(file_path, n_fft = 400, hop_length = 160) # (n_bins, n_frames, 1)\n",
    "        \n",
    "        #convert 3d sep array into 4d array -- (#samples, #segments, #coefficients, #channels)\n",
    "        seps = septograms[..., np.newaxis]\n",
    "        \n",
    "        #make prediction\n",
    "        predictions = self.model.predict(seps) # [ [0.1,0.6, 0.1, ...] ]\n",
    "        predicted_index = np.argmax(predictions)\n",
    "        \n",
    "        predicted_keyword = self.mappings[predicted_index]\n",
    "        \n",
    "        return predicted_keyword\n",
    "    "
   ]
  },
  {
   "cell_type": "code",
   "execution_count": null,
   "metadata": {},
   "outputs": [],
   "source": [
    "def Disfluency_Spotting_Service():\n",
    "    \n",
    "    \n",
    "    if _Disfluency_Spotting_Service. _instance is None:\n",
    "        _Disfluency_Spotting_Service. _instance = _Disfluency_Spotting_Service()\n",
    "        _Disfluency_Spotting_Service.model = keras.models.load_model(LOAD_MODEL)\n",
    "    return _Disfluency_Spotting_Service. _instance"
   ]
  },
  {
   "cell_type": "code",
   "execution_count": null,
   "metadata": {},
   "outputs": [],
   "source": [
    "if __name__ == \"__main__\":\n",
    "    \n",
    "    dss = Disfluency_Spotting_Service()\n",
    "    keyword1 = dss.predict(\"test/sample.wav\")\n",
    "    print(f\"predicted keywords: {keyword1}\")"
   ]
  }
 ],
 "metadata": {
  "kernelspec": {
   "display_name": "Python 3",
   "language": "python",
   "name": "python3"
  },
  "language_info": {
   "codemirror_mode": {
    "name": "ipython",
    "version": 3
   },
   "file_extension": ".py",
   "mimetype": "text/x-python",
   "name": "python",
   "nbconvert_exporter": "python",
   "pygments_lexer": "ipython3",
   "version": "3.6.9"
  }
 },
 "nbformat": 4,
 "nbformat_minor": 4
}
