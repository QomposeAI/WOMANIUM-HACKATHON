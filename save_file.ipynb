{
 "cells": [
  {
   "cell_type": "code",
   "execution_count": null,
   "metadata": {},
   "outputs": [],
   "source": [
    "#!/usr/bin/python\n",
    "import cgi, os\n",
    "import cgitb; cgitb.enable()\n",
    "form = cgi.FieldStorage()\n",
    "# Get filename here.\n",
    "fileitem = form['filename']\n",
    "# Test if the file was uploaded\n",
    "if fileitem.filename:\n",
    "   # strip leading path from file name to avoid\n",
    "   # directory traversal attacks\n",
    "   fn = os.path.basename(fileitem.filename)\n",
    "   open('/tmp/' + fn, 'wb').write(fileitem.file.read())\n",
    "   message = 'The file \"' + fn + '\" was uploaded successfully'\n",
    "else:\n",
    "   message = 'No file was uploaded'\n",
    "print \"\"\"\\\n",
    "Content-Type: text/html\\n\n",
    "<html>\n",
    "<body>\n",
    "   <p>%s</p>\n",
    "</body>\n",
    "</html>\n",
    "\"\"\" % (message,)"
   ]
  }
 ],
 "metadata": {
  "kernelspec": {
   "display_name": "Python 3.10.0 64-bit",
   "language": "python",
   "name": "python3"
  },
  "language_info": {
   "name": "python",
   "version": "3.10.0"
  },
  "orig_nbformat": 4,
  "vscode": {
   "interpreter": {
    "hash": "e593ac106456af50ce7af38f9671c411b49d6cd90f9b885e167f0f594e09038c"
   }
  }
 },
 "nbformat": 4,
 "nbformat_minor": 2
}
